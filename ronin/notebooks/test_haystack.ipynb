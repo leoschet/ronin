{
 "cells": [
  {
   "cell_type": "code",
   "execution_count": 1,
   "metadata": {},
   "outputs": [
    {
     "name": "stderr",
     "output_type": "stream",
     "text": [
      "/Users/leonardoschettini/.pyenv/versions/3.11.4/envs/ronin/lib/python3.11/site-packages/tqdm/auto.py:21: TqdmWarning: IProgress not found. Please update jupyter and ipywidgets. See https://ipywidgets.readthedocs.io/en/stable/user_install.html\n",
      "  from .autonotebook import tqdm as notebook_tqdm\n"
     ]
    }
   ],
   "source": [
    "from haystack.nodes import AnswerParser, PromptModel, PromptNode, PromptTemplate\n",
    "from haystack.pipelines import Pipeline\n",
    "\n",
    "from ronin.config import settings"
   ]
  },
  {
   "cell_type": "code",
   "execution_count": 2,
   "metadata": {},
   "outputs": [],
   "source": [
    "prompt_azure_openai = PromptModel(\n",
    "    model_name_or_path=settings.azure_openai_chatgpt_deployment, \n",
    "    api_key=settings.azure_openai_api_key, \n",
    "    model_kwargs={\n",
    "        \"api_version\": settings.azure_openai_api_version,\n",
    "        \"azure_base_url\": settings.azure_openai_endpoint, \n",
    "        \"azure_deployment_name\": settings.azure_openai_chatgpt_deployment,\n",
    "    }\n",
    ")\n"
   ]
  },
  {
   "cell_type": "code",
   "execution_count": 3,
   "metadata": {},
   "outputs": [],
   "source": [
    "user_prompt_template = PromptTemplate(\n",
    "    prompt=\"Revert, character by character, the message of the user.\\n\\nUser's message {query}\",\n",
    "    output_parser=AnswerParser(),\n",
    ")"
   ]
  },
  {
   "cell_type": "code",
   "execution_count": 4,
   "metadata": {},
   "outputs": [
    {
     "data": {
      "text/plain": [
       "[\"Revert, character by character, the message of the user.\\n\\nUser's message Hello, how are you?\"]"
      ]
     },
     "execution_count": 4,
     "metadata": {},
     "output_type": "execute_result"
    }
   ],
   "source": [
    "list(user_prompt_template.fill(query=\"Hello, how are you?\"))"
   ]
  },
  {
   "cell_type": "code",
   "execution_count": 5,
   "metadata": {},
   "outputs": [],
   "source": [
    "openai_node = PromptNode(prompt_azure_openai)"
   ]
  },
  {
   "cell_type": "code",
   "execution_count": 6,
   "metadata": {},
   "outputs": [],
   "source": [
    "user_node = PromptNode(prompt_azure_openai, default_prompt_template=user_prompt_template)"
   ]
  },
  {
   "cell_type": "code",
   "execution_count": 7,
   "metadata": {},
   "outputs": [
    {
     "data": {
      "text/plain": [
       "PromptModel({'_component_config': {'params': {'model_name_or_path': 'gpt-35-turbo-16k', 'api_key': 'd81b3df071cb419e89a61e6b5b54a614', 'model_kwargs': {'api_version': '2023-07-01-preview', 'azure_base_url': 'https://poc-apps-openai-16k.openai.azure.com/', 'azure_deployment_name': 'gpt-35-turbo-16k'}}, 'type': 'PromptModel'}, 'outgoing_edges': 1, 'model_name_or_path': 'gpt-35-turbo-16k', 'max_length': 100, 'api_key': 'd81b3df071cb419e89a61e6b5b54a614', 'use_auth_token': None, 'use_gpu': None, 'devices': None, 'model_kwargs': {'api_version': '2023-07-01-preview', 'azure_base_url': 'https://poc-apps-openai-16k.openai.azure.com/', 'azure_deployment_name': 'gpt-35-turbo-16k'}, 'model_invocation_layer': <haystack.nodes.prompt.invocation_layer.azure_chatgpt.AzureChatGPTInvocationLayer object at 0x28354b450>})"
      ]
     },
     "execution_count": 7,
     "metadata": {},
     "output_type": "execute_result"
    }
   ],
   "source": [
    "user_node.prompt_model"
   ]
  },
  {
   "cell_type": "code",
   "execution_count": 9,
   "metadata": {},
   "outputs": [
    {
     "name": "stdout",
     "output_type": "stream",
     "text": [
      "aaaa PromptTemplate(name=custom-at-query-time, prompt_text=Revert, character by character, the message of the user.{new_line}{new_line}User's message {query}, prompt_params=['query'])\n",
      "aaaa ([{'role': 'system', 'content': 'You are a helpful assistant'}, {'role': 'user', 'content': 'Hello, how are you?'}],)\n",
      "aaaa!! Revert, character by character, the message of the user.\n",
      "\n",
      "User's message {'role': 'system', 'content': 'You are a helpful assistant'}\n",
      "aaaa!! Revert, character by character, the message of the user.\n",
      "\n",
      "User's message {'role': 'user', 'content': 'Hello, how are you?'}\n"
     ]
    },
    {
     "data": {
      "text/plain": [
       "[<Answer {'answer': \"User's message {'role': 'system', 'content': 'You are a helpful assistant'}\", 'type': 'generative', 'score': None, 'context': None, 'offsets_in_document': None, 'offsets_in_context': None, 'document_ids': None, 'meta': {'prompt': \"Revert, character by character, the message of the user.\\n\\nUser's message {'role': 'system', 'content': 'You are a helpful assistant'}\"}}>,\n",
       " <Answer {'answer': \"{'role': 'assistant', 'content': '????????? ,uoy era woh olleH'}\", 'type': 'generative', 'score': None, 'context': None, 'offsets_in_document': None, 'offsets_in_context': None, 'document_ids': None, 'meta': {'prompt': \"Revert, character by character, the message of the user.\\n\\nUser's message {'role': 'user', 'content': 'Hello, how are you?'}\"}}>]"
      ]
     },
     "execution_count": 9,
     "metadata": {},
     "output_type": "execute_result"
    }
   ],
   "source": [
    "messages = [{\"role\": \"system\", \"content\": \"You are a helpful assistant\"}, {\"role\": \"user\", \"content\": \"Hello, how are you?\"}]\n",
    "\n",
    "user_node(messages)"
   ]
  },
  {
   "cell_type": "code",
   "execution_count": 10,
   "metadata": {},
   "outputs": [
    {
     "name": "stdout",
     "output_type": "stream",
     "text": [
      "aaaa None\n",
      "aaaa ([{'role': 'system', 'content': 'You are a helpful assistant'}, {'role': 'user', 'content': 'Hello, how are you?'}],)\n",
      "aaaa!! [{'role': 'system', 'content': 'You are a helpful assistant'}, {'role': 'user', 'content': 'Hello, how are you?'}]\n"
     ]
    },
    {
     "data": {
      "text/plain": [
       "[\"Hello! I'm an AI assistant, so I don't have feelings, but I'm here to help you. How can I assist you today?\"]"
      ]
     },
     "execution_count": 10,
     "metadata": {},
     "output_type": "execute_result"
    }
   ],
   "source": [
    "openai_node(messages)"
   ]
  },
  {
   "cell_type": "code",
   "execution_count": 11,
   "metadata": {},
   "outputs": [
    {
     "name": "stdout",
     "output_type": "stream",
     "text": [
      "aaaa None\n",
      "aaaa ()\n"
     ]
    },
    {
     "data": {
      "text/plain": [
       "({'results': [],\n",
       "  'invocation_context': {'messages': [{'role': 'system',\n",
       "     'content': 'You are a helpful assistant'},\n",
       "    {'role': 'user', 'content': 'Hello, how are you?'}],\n",
       "   'results': [],\n",
       "   'prompts': []}},\n",
       " 'output_1')"
      ]
     },
     "execution_count": 11,
     "metadata": {},
     "output_type": "execute_result"
    }
   ],
   "source": [
    "openai_node.run(invocation_context={\"messages\": messages})"
   ]
  },
  {
   "cell_type": "code",
   "execution_count": 20,
   "metadata": {},
   "outputs": [],
   "source": [
    "pipe = Pipeline()\n",
    "pipe.add_node(component=user_node, name=\"user_node\", inputs=[\"Query\"])"
   ]
  },
  {
   "cell_type": "code",
   "execution_count": 21,
   "metadata": {},
   "outputs": [
    {
     "data": {
      "text/plain": [
       "{'answers': [<Answer {'answer': '?yks eht ni starc nialpertneirpoc evael senialpilA od oD yhW', 'type': 'generative', 'score': None, 'context': None, 'offsets_in_document': None, 'offsets_in_context': None, 'document_ids': None, 'meta': {'prompt': \"Revert, character by character, the message of the user.\\n\\nUser's message Why do airplanes leave contrails in the sky?\"}}>],\n",
       " 'invocation_context': {'query': 'Why do airplanes leave contrails in the sky?',\n",
       "  'answers': [<Answer {'answer': '?yks eht ni starc nialpertneirpoc evael senialpilA od oD yhW', 'type': 'generative', 'score': None, 'context': None, 'offsets_in_document': None, 'offsets_in_context': None, 'document_ids': None, 'meta': {'prompt': \"Revert, character by character, the message of the user.\\n\\nUser's message Why do airplanes leave contrails in the sky?\"}}>],\n",
       "  'prompts': [\"Revert, character by character, the message of the user.\\n\\nUser's message Why do airplanes leave contrails in the sky?\"]},\n",
       " 'root_node': 'Query',\n",
       " 'params': {},\n",
       " 'query': 'Why do airplanes leave contrails in the sky?',\n",
       " 'node_id': 'user_node'}"
      ]
     },
     "execution_count": 21,
     "metadata": {},
     "output_type": "execute_result"
    }
   ],
   "source": [
    "output = pipe.run(query=\"Why do airplanes leave contrails in the sky?\")\n",
    "output"
   ]
  }
 ],
 "metadata": {
  "kernelspec": {
   "display_name": "ronin",
   "language": "python",
   "name": "python3"
  },
  "language_info": {
   "codemirror_mode": {
    "name": "ipython",
    "version": 3
   },
   "file_extension": ".py",
   "mimetype": "text/x-python",
   "name": "python",
   "nbconvert_exporter": "python",
   "pygments_lexer": "ipython3",
   "version": "3.11.4"
  },
  "orig_nbformat": 4
 },
 "nbformat": 4,
 "nbformat_minor": 2
}
