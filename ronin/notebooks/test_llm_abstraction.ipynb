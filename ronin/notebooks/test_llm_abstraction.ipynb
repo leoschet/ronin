{
 "cells": [
  {
   "cell_type": "code",
   "execution_count": 1,
   "metadata": {},
   "outputs": [
    {
     "name": "stderr",
     "output_type": "stream",
     "text": [
      "\u001b[32m2024-03-20 20:42:48.576\u001b[0m | \u001b[1mINFO    \u001b[0m | \u001b[36mronin\u001b[0m:\u001b[36m<module>\u001b[0m:\u001b[36m10\u001b[0m - \u001b[1mLoading plugin assistants\u001b[0m\n",
      "/Users/leonardoschettini/.pyenv/versions/3.11.4/envs/ronin/lib/python3.11/site-packages/tqdm/auto.py:21: TqdmWarning: IProgress not found. Please update jupyter and ipywidgets. See https://ipywidgets.readthedocs.io/en/stable/user_install.html\n",
      "  from .autonotebook import tqdm as notebook_tqdm\n"
     ]
    }
   ],
   "source": [
    "# flake8: noqa: E402\n",
    "\n",
    "%load_ext autoreload\n",
    "%autoreload 2\n",
    "\n",
    "from ronin.assistants import AssistantRegister, ProactiveChatAssistant\n",
    "from ronin.cli import coroutine\n",
    "from ronin.dependencies import (\n",
    "    _HAYSTACK_INTEGRATION_AVAILABLE,\n",
    "    _LANGCHAIN_INTEGRATION_AVAILABLE,\n",
    ")\n",
    "from ronin.llm.base import LLM, LLMProvider\n",
    "from ronin.llm.loader import create_llm\n",
    "from ronin.haystack.llm import HaystackLLM\n",
    "from ronin.langchain.llm import LangchainLLM\n",
    "from ronin.prompts.templates import SystemPromptTemplate, UserMessageTemplate"
   ]
  },
  {
   "cell_type": "code",
   "execution_count": 2,
   "metadata": {},
   "outputs": [
    {
     "name": "stdout",
     "output_type": "stream",
     "text": [
      "_HAYSTACK_INTEGRATION_AVAILABLE=True\n",
      "_LANGCHAIN_INTEGRATION_AVAILABLE=True\n"
     ]
    }
   ],
   "source": [
    "print(f\"{_HAYSTACK_INTEGRATION_AVAILABLE=}\")\n",
    "print(f\"{_LANGCHAIN_INTEGRATION_AVAILABLE=}\")"
   ]
  },
  {
   "cell_type": "code",
   "execution_count": 6,
   "metadata": {},
   "outputs": [
    {
     "name": "stderr",
     "output_type": "stream",
     "text": [
      "\u001b[32m2024-03-20 20:43:23.838\u001b[0m | \u001b[33m\u001b[1mWARNING \u001b[0m | \u001b[36mronin.llm.loader\u001b[0m:\u001b[36mcreate_llm\u001b[0m:\u001b[36m20\u001b[0m - \u001b[33m\u001b[1mMultiple LLM frameworks found. Is this expected?\u001b[0m\n",
      "\u001b[32m2024-03-20 20:43:23.840\u001b[0m | \u001b[1mINFO    \u001b[0m | \u001b[36mronin.llm.loader\u001b[0m:\u001b[36mcreate_llm\u001b[0m:\u001b[36m24\u001b[0m - \u001b[1mLoading LLM using LangChain.\u001b[0m\n",
      "\u001b[32m2024-03-20 20:43:23.841\u001b[0m | \u001b[1mINFO    \u001b[0m | \u001b[36mronin.llm.base\u001b[0m:\u001b[36mcreate\u001b[0m:\u001b[36m28\u001b[0m - \u001b[1mConnecting to OpenAI.\u001b[0m\n"
     ]
    }
   ],
   "source": [
    "llm: LLM = create_llm(LLMProvider(LLMProvider.OPENAI), max_length=200)\n",
    "\n",
    "hs_llm: LLM = HaystackLLM.create_openai_llm(max_length=200, access_kwargs={}, model_kwargs={})\n",
    "lc_llm: LLM = LangchainLLM.create_openai_llm(max_length=200, access_kwargs={}, model_kwargs={\"streaming\": True})"
   ]
  },
  {
   "cell_type": "code",
   "execution_count": 4,
   "metadata": {},
   "outputs": [],
   "source": [
    "dummy_sysyem_prompt = SystemPromptTemplate.from_str(\"You are a data scientist named john.\")\n",
    "dummy_user_message = UserMessageTemplate.from_str(\"What is your name?\")"
   ]
  },
  {
   "cell_type": "code",
   "execution_count": 7,
   "metadata": {},
   "outputs": [
    {
     "data": {
      "text/plain": [
       "AIMessage(content='My name is not John; I am an AI developed by OpenAI. How can I assist you today?')"
      ]
     },
     "execution_count": 7,
     "metadata": {},
     "output_type": "execute_result"
    }
   ],
   "source": [
    "llm.chat([dummy_sysyem_prompt.fill(), dummy_user_message.fill()])"
   ]
  },
  {
   "cell_type": "code",
   "execution_count": 6,
   "metadata": {},
   "outputs": [
    {
     "data": {
      "text/plain": [
       "\"My name is not John; I'm an AI developed by OpenAI. How can I assist you today?\""
      ]
     },
     "execution_count": 6,
     "metadata": {},
     "output_type": "execute_result"
    }
   ],
   "source": [
    "hs_llm.chat([dummy_sysyem_prompt.fill(), dummy_user_message.fill()])"
   ]
  },
  {
   "cell_type": "code",
   "execution_count": 8,
   "metadata": {},
   "outputs": [
    {
     "data": {
      "text/plain": [
       "'My name is not John; I am an AI developed by OpenAI. How can I assist you today?'"
      ]
     },
     "execution_count": 8,
     "metadata": {},
     "output_type": "execute_result"
    }
   ],
   "source": [
    "lc_llm.chat([dummy_sysyem_prompt.fill(), dummy_user_message.fill()])"
   ]
  }
 ],
 "metadata": {
  "kernelspec": {
   "display_name": "ronin",
   "language": "python",
   "name": "python3"
  },
  "language_info": {
   "codemirror_mode": {
    "name": "ipython",
    "version": 3
   },
   "file_extension": ".py",
   "mimetype": "text/x-python",
   "name": "python",
   "nbconvert_exporter": "python",
   "pygments_lexer": "ipython3",
   "version": "3.11.4"
  }
 },
 "nbformat": 4,
 "nbformat_minor": 2
}
